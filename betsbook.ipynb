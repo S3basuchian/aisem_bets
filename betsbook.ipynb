{
 "cells": [
  {
   "cell_type": "code",
   "execution_count": 13,
   "metadata": {
    "collapsed": true
   },
   "outputs": [],
   "source": [
    "import sqlite3\n",
    "import numpy as np\n",
    "import pandas as pd\n",
    "import math\n",
    "from tqdm.auto import trange, tqdm\n",
    "\n",
    "con = sqlite3.connect(\"database.sqlite\")"
   ]
  },
  {
   "cell_type": "code",
   "execution_count": 14,
   "outputs": [],
   "source": [
    "lookup_player = pd.read_sql_query('SELECT player_api_id, MAX(overall_rating) '\n",
    "                       'FROM Player_Attributes '\n",
    "                       'GROUP BY player_api_id', con)\n",
    "df = pd.read_sql_query('SELECT id, home_team_goal, away_team_goal, '\n",
    "                       'home_team_api_id, away_team_api_id, '\n",
    "                       'B365H, B365A, '\n",
    "                       'BWH, BWA, '\n",
    "                       'IWH, IWA, '\n",
    "                       'LBH, LBA, '\n",
    "                       'PSH, PSA, '\n",
    "                       'WHH, WHA, '\n",
    "                       'SJH, SJA, '\n",
    "                       'VCH, VCA, '\n",
    "                       'GBH, GBA, '\n",
    "                       'BSH, BSA, '\n",
    "                       'home_player_1, home_player_2, home_player_3, '\n",
    "                       'home_player_4, home_player_5, home_player_6, '\n",
    "                       'home_player_7, home_player_8, home_player_9, '\n",
    "                       'home_player_10, home_player_11, '\n",
    "                       'away_player_1, away_player_2, away_player_3, '\n",
    "                       'away_player_4, away_player_5, away_player_6, '\n",
    "                       'away_player_7, away_player_8, away_player_9, '\n",
    "                       'away_player_10, away_player_11 '\n",
    "                       'FROM Match '\n",
    "                       'ORDER BY season, stage ASC', con)\n",
    "df.dropna(subset=['id', 'home_team_goal', 'away_team_goal',\n",
    "                  'home_team_api_id', 'away_team_api_id'], inplace=True)\n",
    "df_comb = pd.DataFrame(index=np.arange(df.shape[0] * 2), columns=np.arange(0))\n"
   ],
   "metadata": {
    "collapsed": false,
    "pycharm": {
     "name": "#%%\n"
    }
   }
  },
  {
   "cell_type": "code",
   "execution_count": 15,
   "outputs": [],
   "source": [
    "betting_provider = ['B365', 'BW', 'IW', 'LB', 'PS', 'WH', 'SJ', 'VC', 'GB', 'BS']"
   ],
   "metadata": {
    "collapsed": false,
    "pycharm": {
     "name": "#%%\n"
    }
   }
  },
  {
   "cell_type": "code",
   "execution_count": 16,
   "outputs": [],
   "source": [
    "def prepareDF(dataframe, fillframe):\n",
    "    for i in range(1, 12):\n",
    "        dataframe = pd.merge(left=dataframe, right=lookup_player, left_on='home_player_' + str(i), right_on='player_api_id', how='left')\n",
    "        dataframe.drop(columns=['player_api_id'], inplace=True)\n",
    "        dataframe.rename(columns={'MAX(overall_rating)': 'home_player_' + str(i) + '_overall_rating'}, inplace=True)\n",
    "    for i in range(1, 12):\n",
    "        dataframe = pd.merge(left=dataframe, right=lookup_player, left_on='away_player_' + str(i), right_on='player_api_id', how='left')\n",
    "        dataframe.drop(columns=['player_api_id'], inplace=True)\n",
    "        dataframe.rename(columns={'MAX(overall_rating)': 'away_player_' + str(i) + '_overall_rating'}, inplace=True)\n",
    "    teams = dataframe['home_team_api_id'].unique()\n",
    "    points = {}\n",
    "    bets = {}\n",
    "    points_against_teams = {}\n",
    "    bets_against_teams = {}\n",
    "    for team_id in teams:\n",
    "        points[team_id] = {}\n",
    "        bets[team_id] = {}\n",
    "        points_against_teams[team_id] = {}\n",
    "        bets_against_teams[team_id] = {}\n",
    "        for team_id_inner in teams:\n",
    "                if team_id != team_id_inner:\n",
    "                    points_against_teams[team_id][team_id_inner] = {}\n",
    "                    bets_against_teams[team_id][team_id_inner] = {}\n",
    "    for i, value in enumerate(dataframe.values):\n",
    "        home_team_api_id = dataframe['home_team_api_id'].values[i]\n",
    "        away_team_api_id = dataframe['away_team_api_id'].values[i]\n",
    "        home_team_goal = dataframe['home_team_goal'].values[i]\n",
    "        away_team_goal = dataframe['away_team_goal'].values[i]\n",
    "        id_of_match = dataframe['id'].values[i]\n",
    "        home_bet = get_bets(dataframe, i, 'H')[0]\n",
    "        away_bet = get_bets(dataframe, i, 'A')[0]\n",
    "        bets[home_team_api_id][id_of_match] = home_bet\n",
    "        bets[away_team_api_id][id_of_match] = away_bet\n",
    "        bets_against_teams[home_team_api_id][away_team_api_id][id_of_match] = home_bet\n",
    "        bets_against_teams[away_team_api_id][home_team_api_id][id_of_match] = away_bet\n",
    "        if home_team_goal > away_team_goal:\n",
    "            points_against_teams[home_team_api_id][away_team_api_id][id_of_match] = 3\n",
    "            points_against_teams[away_team_api_id][home_team_api_id][id_of_match] = 0\n",
    "            points[home_team_api_id][id_of_match] = 3\n",
    "            points[away_team_api_id][id_of_match] = 0\n",
    "        elif home_team_goal < away_team_goal:\n",
    "            points_against_teams[home_team_api_id][away_team_api_id][id_of_match] = 0\n",
    "            points_against_teams[away_team_api_id][home_team_api_id][id_of_match] = 3\n",
    "            points[home_team_api_id][id_of_match] = 0\n",
    "            points[away_team_api_id][id_of_match] = 3\n",
    "        else:\n",
    "            points_against_teams[home_team_api_id][away_team_api_id][id_of_match] = 1\n",
    "            points_against_teams[away_team_api_id][home_team_api_id][id_of_match] = 1\n",
    "            points[home_team_api_id][id_of_match] = 1\n",
    "            points[away_team_api_id][id_of_match] = 1\n",
    "\n",
    "    bet_mean = []\n",
    "    bet_min = []\n",
    "    bet_max = []\n",
    "    home = []\n",
    "    points_itl = []\n",
    "    points_avg = []\n",
    "    points_itl_against = []\n",
    "    points_against_avg = []\n",
    "    bet_team_avg = []\n",
    "    bet_against_avg = []\n",
    "    bet_against_last = []\n",
    "    rating = []\n",
    "    min_rating = []\n",
    "    max_rating = []\n",
    "    ids = []\n",
    "\n",
    "    for i, value in enumerate(tqdm(dataframe.values)):\n",
    "        home_team_api_id = dataframe['home_team_api_id'].values[i]\n",
    "        away_team_api_id = dataframe['away_team_api_id'].values[i]\n",
    "        id_of_match = dataframe['id'].values[i]\n",
    "\n",
    "        # home\n",
    "        bet, min, max = get_bets(dataframe, i, 'H')\n",
    "        bet_mean.append(bet)\n",
    "        bet_min.append(min)\n",
    "        bet_max.append(max)\n",
    "        pitlf, avgpoints = stats_general(id_of_match,points[home_team_api_id])\n",
    "        points_itl.append(pitlf)\n",
    "        points_avg.append(avgpoints)\n",
    "        pitlf, avgpoints = stats_general(id_of_match,points_against_teams[home_team_api_id][away_team_api_id])\n",
    "        points_itl_against.append(pitlf)\n",
    "        points_against_avg.append(avgpoints)\n",
    "        bet_avg, bet_last = stats_bets(id_of_match, bets[home_team_api_id])\n",
    "        bet_team_avg.append(bet_avg)\n",
    "        bet_avg, bet_last = stats_bets(id_of_match, bets_against_teams[home_team_api_id][away_team_api_id])\n",
    "        bet_against_avg.append(bet_avg)\n",
    "        bet_against_last.append(bet_last)\n",
    "        home.append(1)\n",
    "        avgrating, player_min, player_max = stats_players(dataframe, i, 'home')\n",
    "        rating.append(avgrating)\n",
    "        min_rating.append(player_min)\n",
    "        max_rating.append(player_max)\n",
    "        ids.append(str(id_of_match) + 'h')\n",
    "\n",
    "        # away\n",
    "        bet, min, max = get_bets(dataframe, i, 'A')\n",
    "        bet_mean.append(bet)\n",
    "        bet_min.append(min)\n",
    "        bet_max.append(max)\n",
    "        pitlf, avgpoints = stats_general(id_of_match,points[away_team_api_id])\n",
    "        points_itl.append(pitlf)\n",
    "        points_avg.append(avgpoints)\n",
    "        pitlf, avgpoints = stats_general(id_of_match,points_against_teams[away_team_api_id][home_team_api_id])\n",
    "        points_itl_against.append(pitlf)\n",
    "        points_against_avg.append(avgpoints)\n",
    "        bet_avg, bet_last = stats_bets(id_of_match, bets[away_team_api_id])\n",
    "        bet_team_avg.append(bet_avg)\n",
    "        bet_avg, bet_last = stats_bets(id_of_match, bets_against_teams[away_team_api_id][home_team_api_id])\n",
    "        bet_against_avg.append(bet_avg)\n",
    "        bet_against_last.append(bet_last)\n",
    "        home.append(0)\n",
    "        avgrating, player_min, player_max = stats_players(dataframe, i, 'away')\n",
    "        rating.append(avgrating)\n",
    "        min_rating.append(player_min)\n",
    "        max_rating.append(player_max)\n",
    "        ids.append(str(id_of_match) + 'a')\n",
    "\n",
    "    fillframe['points_itl'] = points_itl\n",
    "    fillframe['home'] = home\n",
    "    fillframe['bet_mean'] = bet_mean\n",
    "    fillframe['bet_min'] = bet_min\n",
    "    fillframe['bet_max'] = bet_max\n",
    "    fillframe['points_itl_against'] = points_itl_against\n",
    "    fillframe['points_avg'] = points_avg\n",
    "    fillframe['points_against_avg'] = points_against_avg\n",
    "    fillframe['bet_team_avg'] = bet_team_avg\n",
    "    fillframe['bet_against_avg'] = bet_against_avg\n",
    "    fillframe['bet_against_last'] = bet_against_last\n",
    "    fillframe['rating'] = rating\n",
    "    fillframe['min_rating'] = min_rating\n",
    "    fillframe['max_rating'] = max_rating\n",
    "    fillframe['id'] = ids\n",
    "    fillframe.dropna(inplace=True)\n",
    "\n",
    "def get_bets(dataframe, i, home='H'):\n",
    "    count = 0\n",
    "    result = 0\n",
    "    min = np.nan\n",
    "    max = np.nan\n",
    "    for provider in betting_provider:\n",
    "        bet = dataframe[provider + home].values[i]\n",
    "        if not math.isnan(bet):\n",
    "            result += bet\n",
    "            count += 1\n",
    "            if bet < min or math.isnan(min):\n",
    "                min = bet\n",
    "            if bet > max or math.isnan(max):\n",
    "                max = bet\n",
    "    if count > 0:\n",
    "        return result / count, min, max\n",
    "    else:\n",
    "        return np.nan, min, max\n",
    "\n",
    "def stats_players(dataframe, i, home='home'):\n",
    "    player_min = np.nan\n",
    "    player_max = np.nan\n",
    "    player_ratings = []\n",
    "    for j in range(1, 12):\n",
    "        player_rating = dataframe[home + '_player_' + str(j) + '_overall_rating'].values[i]\n",
    "        if not math.isnan(player_rating):\n",
    "            if player_rating < player_min or math.isnan(player_min):\n",
    "                player_min = player_rating\n",
    "            if player_rating > player_max or math.isnan(player_max):\n",
    "                player_max = player_rating\n",
    "            player_ratings.append(player_rating)\n",
    "    if len(player_ratings) > 3:\n",
    "        avg_rating = 0\n",
    "        for player_rating in player_ratings:\n",
    "            avg_rating =+ player_rating\n",
    "        avg_rating = avg_rating / len(player_ratings)\n",
    "        return avg_rating, player_min, player_max\n",
    "    else:\n",
    "        return np.nan, player_min, player_max\n",
    "\n",
    "def stats_general(id_of_match, points):\n",
    "    pitlf = 0\n",
    "    avgpoints = 0\n",
    "    for j, key in enumerate(points.keys()):\n",
    "        if key == id_of_match:\n",
    "            if j-3 >= 0:\n",
    "                for k, point in enumerate(points.values()):\n",
    "                    if k < j:\n",
    "                        avgpoints += point\n",
    "                        if j - 3 < k:\n",
    "                            pitlf += point\n",
    "                avgpoints = (avgpoints / (j +1))\n",
    "                return pitlf, avgpoints\n",
    "            else:\n",
    "                return np.nan, np.nan\n",
    "\n",
    "def stats_bets(id_of_match, bets):\n",
    "    avgbets = 0\n",
    "    lastbet = 0\n",
    "    for j, key in enumerate(bets.keys()):\n",
    "        if key == id_of_match:\n",
    "            if j-3 >= 0:\n",
    "                for k, bet in enumerate(bets.values()):\n",
    "                    if k < j:\n",
    "                        if j - 3 < k:\n",
    "                            avgbets += bet\n",
    "                            lastbet = bet\n",
    "                avgbets = (avgbets / 3)\n",
    "                return avgbets, lastbet\n",
    "            else:\n",
    "                return np.nan, np.nan"
   ],
   "metadata": {
    "collapsed": false,
    "pycharm": {
     "name": "#%%\n"
    }
   }
  },
  {
   "cell_type": "code",
   "execution_count": 17,
   "outputs": [
    {
     "data": {
      "text/plain": "  0%|          | 0/25979 [00:00<?, ?it/s]",
      "application/vnd.jupyter.widget-view+json": {
       "version_major": 2,
       "version_minor": 0,
       "model_id": "d9a5f16572f3411284bd45f06393e5f6"
      }
     },
     "metadata": {},
     "output_type": "display_data"
    }
   ],
   "source": [
    "prepareDF(df, df_comb)"
   ],
   "metadata": {
    "collapsed": false,
    "pycharm": {
     "name": "#%%\n"
    }
   }
  },
  {
   "cell_type": "code",
   "execution_count": 18,
   "outputs": [],
   "source": [
    "import pyro\n",
    "import pyro.distributions as dist\n",
    "from pyro.nn import PyroModule, PyroSample\n",
    "import torch\n",
    "import torch.nn as nn\n",
    "from pyro.infer.autoguide import AutoDiagonalNormal, AutoDelta, AutoNormal\n",
    "from pyro.infer import SVI, Trace_ELBO, Predictive\n"
   ],
   "metadata": {
    "collapsed": false,
    "pycharm": {
     "name": "#%%\n"
    }
   }
  },
  {
   "cell_type": "code",
   "execution_count": 19,
   "outputs": [],
   "source": [
    "class BayesianRegression(PyroModule):\n",
    "    def __init__(self, in_features):\n",
    "        super().__init__()\n",
    "        self.linear = PyroModule[nn.Linear](in_features, 1)\n",
    "        self.linear.weight = PyroSample(dist.Normal(0., 1.).expand([1, in_features]).to_event(2))\n",
    "        self.linear.bias = PyroSample(dist.Normal(0., 10.).expand([1]).to_event(1))\n",
    "\n",
    "    def forward(self, x, y=None):\n",
    "        sigma = pyro.sample(\"sigma\", dist.Uniform(0., 10.))\n",
    "        mean = self.linear(x).squeeze(-1)\n",
    "        with pyro.plate(\"data\", x.shape[0]):\n",
    "            obs = pyro.sample(\"obs\", dist.Normal(mean, sigma), obs=y)\n",
    "        return mean\n",
    "\n",
    "class BayesianNN(PyroModule):\n",
    "    def __init__(self, in_features, h1=16, h2=32):\n",
    "        super().__init__()\n",
    "        self.input_features=in_features\n",
    "        self.fc1 = PyroModule[nn.Linear](in_features, h1)\n",
    "        self.fc1.weight = PyroSample(dist.Normal(0., 1.).expand([h1, in_features]).to_event(2))\n",
    "        self.fc1.bias = PyroSample(dist.Normal(0., 1.).expand([h1]).to_event(1))\n",
    "        self.fc2 = PyroModule[nn.Linear](h1, h2)\n",
    "        self.fc2.weight = PyroSample(dist.Normal(0., 1.).expand([h2, h1]).to_event(2))\n",
    "        self.fc2.bias = PyroSample(dist.Normal(0., 1.).expand([h2]).to_event(1))\n",
    "        self.fc3 = PyroModule[nn.Linear](h2, 1)\n",
    "        self.fc3.weight = PyroSample(dist.Normal(0., 1.).expand([1, h2]).to_event(2))\n",
    "        self.fc3.bias = PyroSample(dist.Normal(0., 1.).expand([1]).to_event(1))\n",
    "        self.relu = nn.ReLU()\n",
    "\n",
    "    def forward(self, x, y=None):\n",
    "        x = self.relu(self.fc1(x))\n",
    "        x = self.relu(self.fc2(x))\n",
    "        mu = self.fc3(x).squeeze(-1)\n",
    "        sigma = pyro.sample(\"sigma\", dist.Uniform(0., 1.))\n",
    "        with pyro.plate(\"data\", x.shape[0]):\n",
    "            obs = pyro.sample(\"obs\", dist.Normal(mu, sigma), obs=y)\n",
    "        return mu"
   ],
   "metadata": {
    "collapsed": false,
    "pycharm": {
     "name": "#%%\n"
    }
   }
  },
  {
   "cell_type": "code",
   "execution_count": 20,
   "outputs": [],
   "source": [
    "used_parameters = ['points_itl', 'points_itl_against', 'points_avg', 'points_against_avg',\n",
    "                   'bet_team_avg', 'bet_against_avg', 'bet_against_last',\n",
    "                   'home', 'rating']\n",
    "predict_parameters = ['bet_mean']"
   ],
   "metadata": {
    "collapsed": false,
    "pycharm": {
     "name": "#%%\n"
    }
   }
  },
  {
   "cell_type": "code",
   "execution_count": 21,
   "outputs": [],
   "source": [
    "df_test = df_comb.sample(frac=0.2, random_state=42)\n",
    "df_train = df_comb[~df_comb['id'].isin(df_test['id'])]"
   ],
   "metadata": {
    "collapsed": false,
    "pycharm": {
     "name": "#%%\n"
    }
   }
  },
  {
   "cell_type": "code",
   "execution_count": 22,
   "outputs": [],
   "source": [
    "def evaluate_param(predict_param, nn=True, lr=1e-2):\n",
    "    x_data = torch.tensor(df_train[used_parameters].values, dtype=torch.float)\n",
    "    y_data = torch.tensor([df_train[predict_param].values], dtype=torch.float)\n",
    "    if nn:\n",
    "        model = BayesianNN(in_features=len(used_parameters))\n",
    "    else:\n",
    "        model = BayesianRegression(in_features=len(used_parameters))\n",
    "    guide = AutoDiagonalNormal(model)\n",
    "    adam = pyro.optim.Adam({\"lr\": lr})\n",
    "    svi = SVI(model, guide, adam, loss=Trace_ELBO())\n",
    "    num_iterations = 5000\n",
    "    bar = trange(num_iterations)\n",
    "    pyro.clear_param_store()\n",
    "    for j, epoch in enumerate(bar):\n",
    "        # calculate the loss and take a gradient step\n",
    "        loss = svi.step(x_data, y_data)\n",
    "        if j % 50 == 0:\n",
    "            bar.set_postfix(loss=f'{loss / x_data.shape[0]:.3f}')\n",
    "    guide.requires_grad_(False)\n",
    "    return model, guide\n",
    "\n",
    "def evaluate_model(predict_param, model, guide):\n",
    "    predictive = Predictive(model, guide=guide, num_samples=1000, return_sites=(\"linear.weight\", \"obs\", \"_RETURN\"))\n",
    "    x_data_test = torch.tensor(df_test[used_parameters].values, dtype=torch.float)\n",
    "    preds = predictive(x_data_test)\n",
    "    y_pred = preds['obs'].T.detach().numpy().mean(axis=1)\n",
    "    y_std = preds['obs'].T.detach().numpy().std(axis=1)\n",
    "    print('Mean Bet Value: ' + str(np.round(np.mean(y_pred).item(), 2)))\n",
    "    print('Mean Bet STD: ' + str(np.round(np.mean(y_std).item(), 2)))\n",
    "    print()\n",
    "    if 'linear.weight' in preds:\n",
    "        weights = {}\n",
    "        weight = preds[\"linear.weight\"]\n",
    "        for i, param in enumerate(used_parameters):\n",
    "            weights[param] = str(np.round(abs(torch.mean(weight[:,0, 0, i]).item()), 2))\n",
    "        weights = {k: v for k, v in sorted(weights.items(), key=lambda item: item[1], reverse=True)}\n",
    "        for w in weights.keys():\n",
    "            print(str(weights[w]) + '    -    ' + w)\n",
    "    error = 0\n",
    "    erroravg = 0\n",
    "    within_05 = 0\n",
    "    within_1 = 0\n",
    "    for i, bet in enumerate(y_pred):\n",
    "        current_error_min = abs(bet - df_test['bet_min'].values[i])\n",
    "        current_error_max = abs(bet - df_test['bet_max'].values[i])\n",
    "        erroravg += abs(bet - df_test['bet_mean'].values[i])\n",
    "        if current_error_min < current_error_max:\n",
    "            error += current_error_min\n",
    "            if current_error_min < 0.5:\n",
    "                within_05 += 1\n",
    "            if current_error_min < 1:\n",
    "                within_1 += 1\n",
    "        else:\n",
    "            error += current_error_max\n",
    "            if current_error_max < 0.5:\n",
    "                within_05 += 1\n",
    "            if current_error_max < 1:\n",
    "                within_1 += 1\n",
    "    avg_error_close = error / len(y_pred)\n",
    "    avg_error_mean = erroravg / len(y_pred)\n",
    "    within_05 = within_05 / len(y_pred)\n",
    "    within_1 = within_1 / len(y_pred)\n",
    "    print()\n",
    "    print('distance to closest bet: ' + str(np.round(avg_error_close, 2)))\n",
    "    print('distance to average bet: ' + str(np.round(avg_error_mean, 2)))\n",
    "    print('within_0.5: ' + str(np.round(within_05, 2)))\n",
    "    print('within_1: ' + str(np.round(within_1, 2)))"
   ],
   "metadata": {
    "collapsed": false,
    "pycharm": {
     "name": "#%%\n"
    }
   }
  },
  {
   "cell_type": "code",
   "execution_count": 23,
   "outputs": [
    {
     "data": {
      "text/plain": "  0%|          | 0/5000 [00:00<?, ?it/s]",
      "application/vnd.jupyter.widget-view+json": {
       "version_major": 2,
       "version_minor": 0,
       "model_id": "a86366b09b15498c8ec0228b6d6890d9"
      }
     },
     "metadata": {},
     "output_type": "display_data"
    }
   ],
   "source": [
    "model, guide = evaluate_param('bet_mean', nn=True)"
   ],
   "metadata": {
    "collapsed": false,
    "pycharm": {
     "name": "#%%\n"
    }
   }
  },
  {
   "cell_type": "code",
   "execution_count": 24,
   "outputs": [
    {
     "name": "stdout",
     "output_type": "stream",
     "text": [
      "Mean Bet Value: 3.78\n",
      "Mean Bet STD: 1.77\n",
      "\n",
      "2.39    -    home\n",
      "1.23    -    bet_against_avg\n",
      "0.36    -    points_against_avg\n",
      "0.08    -    points_itl\n",
      "0.07    -    rating\n",
      "0.04    -    bet_team_avg\n",
      "0.03    -    points_avg\n",
      "0.01    -    points_itl_against\n",
      "0.0    -    bet_against_last\n",
      "\n",
      "distance to closest bet: 0.82\n",
      "distance to average bet: 1.1\n",
      "within_0.5: 0.43\n",
      "within_1: 0.73\n"
     ]
    }
   ],
   "source": [
    "evaluate_model('bet_mean',model, guide)\n"
   ],
   "metadata": {
    "collapsed": false,
    "pycharm": {
     "name": "#%%\n"
    }
   }
  }
 ],
 "metadata": {
  "kernelspec": {
   "name": "python3",
   "language": "python",
   "display_name": "Python 3"
  },
  "language_info": {
   "codemirror_mode": {
    "name": "ipython",
    "version": 2
   },
   "file_extension": ".py",
   "mimetype": "text/x-python",
   "name": "python",
   "nbconvert_exporter": "python",
   "pygments_lexer": "ipython2",
   "version": "2.7.6"
  }
 },
 "nbformat": 4,
 "nbformat_minor": 0
}