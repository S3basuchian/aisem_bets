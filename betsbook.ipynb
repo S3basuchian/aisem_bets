{
 "cells": [
  {
   "cell_type": "code",
   "execution_count": 92,
   "metadata": {
    "collapsed": true
   },
   "outputs": [],
   "source": [
    "import sqlite3\n",
    "import numpy as np\n",
    "import pandas as pd\n",
    "import math\n",
    "from tqdm.auto import trange, tqdm\n",
    "\n",
    "con = sqlite3.connect(\"database.sqlite\")"
   ]
  },
  {
   "cell_type": "code",
   "execution_count": 93,
   "outputs": [],
   "source": [
    "# country_id=\"21518\" and league_id=\"21518\" define La Liga\n",
    "# id=\"43040\" or team_api_id=\"8633\" define Real Madrid\n",
    "# id=\"43039\" or team_api_id=\"9783\" define RC Deportivo de La Coruña (opponent of Real Madrid in stage 38)\n",
    "lookup_match = pd.read_sql_query('SELECT id, home_team_goal, away_team_goal, '\n",
    "                       'home_team_api_id, away_team_api_id, '\n",
    "                       'B365H, B365D, B365A, '\n",
    "                       'home_player_1, home_player_2, home_player_3, '\n",
    "                       'home_player_4, home_player_5, home_player_6, '\n",
    "                       'home_player_7, home_player_8, home_player_9, '\n",
    "                       'home_player_10, home_player_11, '\n",
    "                       'away_player_1, away_player_2, away_player_3, '\n",
    "                       'away_player_4, away_player_5, away_player_6, '\n",
    "                       'away_player_7, away_player_8, away_player_9, '\n",
    "                       'away_player_10, away_player_11, date '\n",
    "                       'FROM Match '\n",
    "                       'ORDER BY season, stage ASC', con)\n",
    "lookup_player = pd.read_sql_query('SELECT player_api_id, date, MAX(overall_rating) '\n",
    "                       'FROM Player_Attributes '\n",
    "                       'GROUP BY player_api_id', con)\n",
    "df = pd.read_sql_query('SELECT id, home_team_goal, away_team_goal, '\n",
    "                       'home_team_api_id, away_team_api_id, '\n",
    "                       'B365H, B365D, B365A '\n",
    "                       'FROM Match '\n",
    "                       'WHERE country_id!=\"21518\" '\n",
    "                       'ORDER BY season, stage ASC', con)\n",
    "df_test = pd.read_sql_query('SELECT id, home_team_goal, away_team_goal, '\n",
    "                       'home_team_api_id, away_team_api_id, '\n",
    "                       'B365H, B365D, B365A '\n",
    "                       'FROM Match '\n",
    "                       'WHERE country_id=\"21518\" '\n",
    "                       'ORDER BY season, stage ASC', con)\n",
    "df.dropna(inplace=True)\n",
    "df_test.dropna(inplace=True)\n",
    "df_comb = pd.DataFrame(np.random.randint(0,10, size=(df.shape[0] * 2,1)))\n",
    "df_comb_test = pd.DataFrame(np.random.randint(0,10, size=(df_test.shape[0] * 2,1)))"
   ],
   "metadata": {
    "collapsed": false,
    "pycharm": {
     "name": "#%%\n"
    }
   }
  },
  {
   "cell_type": "code",
   "execution_count": 94,
   "outputs": [],
   "source": [
    "def prepareDF(dataframe, fillframe):\n",
    "    teams = dataframe['home_team_api_id'].unique()\n",
    "    points = {}\n",
    "    bets = {}\n",
    "    points_against_teams = {}\n",
    "    bets_against_teams = {}\n",
    "    for team_id in teams:\n",
    "        points[team_id] = {}\n",
    "        bets[team_id] = {}\n",
    "        points_against_teams[team_id] = {}\n",
    "        bets_against_teams[team_id] = {}\n",
    "        for team_id_inner in teams:\n",
    "                if team_id != team_id_inner:\n",
    "                    points_against_teams[team_id][team_id_inner] = {}\n",
    "                    bets_against_teams[team_id][team_id_inner] = {}\n",
    "    for i, value in enumerate(dataframe.values):\n",
    "        home_team_api_id = dataframe['home_team_api_id'].values[i]\n",
    "        away_team_api_id = dataframe['away_team_api_id'].values[i]\n",
    "        home_team_goal = dataframe['home_team_goal'].values[i]\n",
    "        away_team_goal = dataframe['away_team_goal'].values[i]\n",
    "        id_of_match = dataframe['id'].values[i]\n",
    "        bets[home_team_api_id][id_of_match] = dataframe['B365H'].values[i]\n",
    "        bets[away_team_api_id][id_of_match] = dataframe['B365A'].values[i]\n",
    "        bets_against_teams[home_team_api_id][away_team_api_id][id_of_match] = dataframe['B365H'].values[i]\n",
    "        bets_against_teams[away_team_api_id][home_team_api_id][id_of_match] = dataframe['B365A'].values[i]\n",
    "        if home_team_goal > away_team_goal:\n",
    "            points_against_teams[home_team_api_id][away_team_api_id][id_of_match] = 3\n",
    "            points_against_teams[away_team_api_id][home_team_api_id][id_of_match] = 0\n",
    "            points[home_team_api_id][id_of_match] = 3\n",
    "            points[away_team_api_id][id_of_match] = 0\n",
    "        elif home_team_goal < away_team_goal:\n",
    "            points_against_teams[home_team_api_id][away_team_api_id][id_of_match] = 0\n",
    "            points_against_teams[away_team_api_id][home_team_api_id][id_of_match] = 3\n",
    "            points[home_team_api_id][id_of_match] = 0\n",
    "            points[away_team_api_id][id_of_match] = 3\n",
    "        else:\n",
    "            points_against_teams[home_team_api_id][away_team_api_id][id_of_match] = 1\n",
    "            points_against_teams[away_team_api_id][home_team_api_id][id_of_match] = 1\n",
    "            points[home_team_api_id][id_of_match] = 1\n",
    "            points[away_team_api_id][id_of_match] = 1\n",
    "\n",
    "    b365 = []\n",
    "    home = []\n",
    "    points_itl = []\n",
    "    points_avg = []\n",
    "    points_itl_against = []\n",
    "    points_against_avg = []\n",
    "    bet_team_avg = []\n",
    "    bet_against_avg = []\n",
    "    bet_against_last = []\n",
    "    rating = []\n",
    "\n",
    "    for i, value in enumerate(tqdm(dataframe.values)):\n",
    "        home_team_api_id = dataframe['home_team_api_id'].values[i]\n",
    "        away_team_api_id = dataframe['away_team_api_id'].values[i]\n",
    "        id_of_match = dataframe['id'].values[i]\n",
    "\n",
    "        # home\n",
    "        b365.append(dataframe['B365H'].values[i])\n",
    "        pitlf, avgpoints = stats_general(id_of_match,points[home_team_api_id])\n",
    "        points_itl.append(pitlf)\n",
    "        points_avg.append(avgpoints)\n",
    "        pitlf, avgpoints = stats_general(id_of_match,points_against_teams[home_team_api_id][away_team_api_id])\n",
    "        points_itl_against.append(pitlf)\n",
    "        points_against_avg.append(avgpoints)\n",
    "        bet_avg, bet_last = stats_bets(id_of_match, bets[home_team_api_id])\n",
    "        bet_team_avg.append(bet_avg)\n",
    "        bet_avg, bet_last = stats_bets(id_of_match, bets_against_teams[home_team_api_id][away_team_api_id])\n",
    "        bet_against_avg.append(bet_avg)\n",
    "        bet_against_last.append(bet_last)\n",
    "        home.append(1)\n",
    "        avgrating = stats_players(id_of_match, 'home')\n",
    "        rating.append(avgrating)\n",
    "\n",
    "        # away\n",
    "        b365.append(dataframe['B365A'].values[i])\n",
    "        pitlf, avgpoints = stats_general(id_of_match,points[away_team_api_id])\n",
    "        points_itl.append(pitlf)\n",
    "        points_avg.append(avgpoints)\n",
    "        pitlf, avgpoints = stats_general(id_of_match,points_against_teams[away_team_api_id][home_team_api_id])\n",
    "        points_itl_against.append(pitlf)\n",
    "        points_against_avg.append(avgpoints)\n",
    "        bet_avg, bet_last = stats_bets(id_of_match, bets[away_team_api_id])\n",
    "        bet_team_avg.append(bet_avg)\n",
    "        bet_avg, bet_last = stats_bets(id_of_match, bets_against_teams[away_team_api_id][home_team_api_id])\n",
    "        bet_against_avg.append(bet_avg)\n",
    "        bet_against_last.append(bet_last)\n",
    "        home.append(0)\n",
    "        avgrating = stats_players(id_of_match, 'away')\n",
    "        rating.append(avgrating)\n",
    "\n",
    "    fillframe['points_itl'] = points_itl\n",
    "    fillframe['home'] = home\n",
    "    fillframe['B365'] = b365\n",
    "    fillframe['points_itl_against'] = points_itl_against\n",
    "    fillframe['points_avg'] = points_avg\n",
    "    fillframe['points_against_avg'] = points_against_avg\n",
    "    fillframe['bet_team_avg'] = bet_team_avg\n",
    "    fillframe['bet_against_avg'] = bet_against_avg\n",
    "    fillframe['bet_against_last'] = bet_against_last\n",
    "    fillframe['rating'] = rating\n",
    "    fillframe.dropna(inplace=True)\n",
    "\n",
    "def stats_players(id_of_match, home='home'):\n",
    "    home_players = []\n",
    "    for j in range(1, 12):\n",
    "            home_player = lookup_match.loc[lookup_match['id'] == id_of_match][home + '_player_' + str(j)].item()\n",
    "            if not math.isnan(home_player):\n",
    "                rating = lookup_player.loc[lookup_player['player_api_id'] == home_player]['MAX(overall_rating)'].item()\n",
    "                home_players.append(rating)\n",
    "    if len(home_players) > 3:\n",
    "        avg_rating = 0\n",
    "        for player in home_players:\n",
    "            avg_rating =+ player\n",
    "        avg_rating = avg_rating / len(home_players)\n",
    "        return avg_rating\n",
    "    else:\n",
    "        return np.nan\n",
    "\n",
    "def stats_general(id_of_match, points):\n",
    "    pitlf = 0\n",
    "    avgpoints = 0\n",
    "    for j, key in enumerate(points.keys()):\n",
    "        if key == id_of_match:\n",
    "            if j-3 >= 0:\n",
    "                for k, point in enumerate(points.values()):\n",
    "                    if k < j:\n",
    "                        avgpoints += point\n",
    "                        if j - 3 < k:\n",
    "                            pitlf += point\n",
    "                avgpoints = (avgpoints / (j +1))\n",
    "                return pitlf, avgpoints\n",
    "            else:\n",
    "                return np.nan, np.nan\n",
    "\n",
    "def stats_bets(id_of_match, bets):\n",
    "    avgbets = 0\n",
    "    lastbet = 0\n",
    "    for j, key in enumerate(bets.keys()):\n",
    "        if key == id_of_match:\n",
    "            if j-3 >= 0:\n",
    "                for k, bet in enumerate(bets.values()):\n",
    "                    if k < j:\n",
    "                        if j - 3 < k:\n",
    "                            avgbets += bet\n",
    "                            lastbet = bet\n",
    "                avgbets = (avgbets / 3)\n",
    "                return avgbets, lastbet\n",
    "            else:\n",
    "                return np.nan, np.nan"
   ],
   "metadata": {
    "collapsed": false,
    "pycharm": {
     "name": "#%%\n"
    }
   }
  },
  {
   "cell_type": "code",
   "execution_count": 95,
   "outputs": [
    {
     "data": {
      "text/plain": "  0%|          | 0/19553 [00:00<?, ?it/s]",
      "application/vnd.jupyter.widget-view+json": {
       "version_major": 2,
       "version_minor": 0,
       "model_id": "ff2d4a4ae2d749ce91e1e8d7f9f17919"
      }
     },
     "metadata": {},
     "output_type": "display_data"
    },
    {
     "data": {
      "text/plain": "  0%|          | 0/3039 [00:00<?, ?it/s]",
      "application/vnd.jupyter.widget-view+json": {
       "version_major": 2,
       "version_minor": 0,
       "model_id": "3118f76a483844c3942fab1c5aab2ee8"
      }
     },
     "metadata": {},
     "output_type": "display_data"
    }
   ],
   "source": [
    "prepareDF(df, df_comb)\n",
    "prepareDF(df_test, df_comb_test)"
   ],
   "metadata": {
    "collapsed": false,
    "pycharm": {
     "name": "#%%\n"
    }
   }
  },
  {
   "cell_type": "code",
   "execution_count": 96,
   "outputs": [],
   "source": [
    "import pyro\n",
    "import pyro.distributions as dist\n",
    "from pyro.nn import PyroModule, PyroSample\n",
    "import torch\n",
    "import torch.nn as nn\n",
    "from pyro.infer.autoguide import AutoDiagonalNormal, AutoDelta\n",
    "from pyro.infer import SVI, Trace_ELBO, Predictive\n"
   ],
   "metadata": {
    "collapsed": false,
    "pycharm": {
     "name": "#%%\n"
    }
   }
  },
  {
   "cell_type": "code",
   "execution_count": 97,
   "outputs": [],
   "source": [
    "class BayesianRegression(PyroModule):\n",
    "    def __init__(self, in_features):\n",
    "        super().__init__()\n",
    "        self.linear = PyroModule[nn.Linear](in_features, 1)\n",
    "        self.linear.weight = PyroSample(dist.Normal(1., 2.).expand([1, in_features]).to_event(2))\n",
    "        self.linear.bias = PyroSample(dist.Normal(0., 10.).expand([1]).to_event(1))\n",
    "\n",
    "    def forward(self, x, y=None):\n",
    "        sigma = pyro.sample(\"sigma\", dist.Uniform(0., 10.))\n",
    "        mean = self.linear(x).squeeze(-1)\n",
    "        with pyro.plate(\"data\", x.shape[0]):\n",
    "            obs = pyro.sample(\"obs\", dist.Normal(mean, sigma), obs=y)\n",
    "        return mean\n",
    "\n",
    "class BayesianNN(PyroModule):\n",
    "    def __init__(self, in_features, h1=20, h2=20):\n",
    "        super().__init__()\n",
    "        self.input_features=in_features\n",
    "        self.fc1 = PyroModule[nn.Linear](in_features, h1)\n",
    "        self.fc1.weight = PyroSample(dist.Normal(0., 1.).expand([h1, in_features]).to_event(2))\n",
    "        self.fc1.bias = PyroSample(dist.Normal(0., 1.).expand([h1]).to_event(1))\n",
    "        self.fc2 = PyroModule[nn.Linear](h1, h2)\n",
    "        self.fc2.weight = PyroSample(dist.Normal(0., 1.).expand([h2, h1]).to_event(2))\n",
    "        self.fc2.bias = PyroSample(dist.Normal(0., 1.).expand([h2]).to_event(1))\n",
    "        self.fc3 = PyroModule[nn.Linear](h2, 1)\n",
    "        self.fc3.weight = PyroSample(dist.Normal(0., 1.).expand([1, h2]).to_event(2))\n",
    "        self.fc3.bias = PyroSample(dist.Normal(0., 1.).expand([1]).to_event(1))\n",
    "        self.relu = nn.ReLU()\n",
    "\n",
    "    def forward(self, x, y=None):\n",
    "        x = self.relu(self.fc1(x))\n",
    "        x = self.relu(self.fc2(x))\n",
    "        mu = self.fc3(x).squeeze(-1)\n",
    "        sigma = pyro.sample(\"sigma\", dist.Uniform(0., 1.))\n",
    "        with pyro.plate(\"data\", x.shape[0]):\n",
    "            obs = pyro.sample(\"obs\", dist.Normal(mu, sigma), obs=y)\n",
    "        return mu"
   ],
   "metadata": {
    "collapsed": false,
    "pycharm": {
     "name": "#%%\n"
    }
   }
  },
  {
   "cell_type": "code",
   "execution_count": 98,
   "outputs": [],
   "source": [
    "# 'points_itl'\n",
    "# 'B365'\n",
    "# 'points_itl_against'\n",
    "# 'points_avg'\n",
    "# 'points_against_avg'\n",
    "# 'bet_team_avg'\n",
    "# 'bet_against_avg'\n",
    "# 'bet_against_last'\n",
    "\n",
    "used_parameters = ['points_itl', 'points_itl_against', 'points_avg', 'points_against_avg',\n",
    "                   'bet_team_avg', 'bet_against_avg', 'bet_against_avg', 'bet_against_last',\n",
    "                   'home', 'rating']\n",
    "predict_parameters = ['B365']"
   ],
   "metadata": {
    "collapsed": false,
    "pycharm": {
     "name": "#%%\n"
    }
   }
  },
  {
   "cell_type": "code",
   "execution_count": 99,
   "outputs": [
    {
     "data": {
      "text/plain": "  0%|          | 0/5000 [00:00<?, ?it/s]",
      "application/vnd.jupyter.widget-view+json": {
       "version_major": 2,
       "version_minor": 0,
       "model_id": "a158208513b94b438c9517df8cbf833d"
      }
     },
     "metadata": {},
     "output_type": "display_data"
    },
    {
     "name": "stdout",
     "output_type": "stream",
     "text": [
      "\n",
      "avgerror: 1.21\n",
      "within_percent: 0.52\n"
     ]
    }
   ],
   "source": [
    "def evaluate_param(predict_param):\n",
    "    x_data = torch.tensor(df_comb[used_parameters].values, dtype=torch.float)\n",
    "    x_data_test = torch.tensor(df_comb_test[used_parameters].values, dtype=torch.float)\n",
    "    y_data = torch.tensor([df_comb[predict_param].values], dtype=torch.float)\n",
    "    model = BayesianNN(in_features=len(used_parameters))\n",
    "    guide = AutoDiagonalNormal(model)\n",
    "    adam = pyro.optim.Adam({\"lr\": 1e-3})\n",
    "    svi = SVI(model, guide, adam, loss=Trace_ELBO())\n",
    "    num_iterations = 5000\n",
    "    bar = trange(num_iterations)\n",
    "    pyro.clear_param_store()\n",
    "    for j, epoch in enumerate(bar):\n",
    "        # calculate the loss and take a gradient step\n",
    "        loss = svi.step(x_data, y_data)\n",
    "        if j % 50 == 0:\n",
    "            bar.set_postfix(loss=f'{loss / x_data_test.shape[0]:.3f}')\n",
    "    guide.requires_grad_(False)\n",
    "    predictive = Predictive(model, guide=guide, num_samples=1000, return_sites=(\"linear.weight\", \"obs\", \"_RETURN\"))\n",
    "    preds = predictive(x_data_test)\n",
    "    y_pred = preds['obs'].T.detach().numpy().mean(axis=1)\n",
    "    y_std = preds['obs'].T.detach().numpy().std(axis=1)\n",
    "    if 'linear.weight' in preds:\n",
    "        weight = preds[\"linear.weight\"]\n",
    "        for i, param in enumerate(used_parameters):\n",
    "            print(param + ': ' + str(np.round(torch.mean(weight[:,0, 0, i]).item(), 2)))\n",
    "    error = 0\n",
    "    within = 0\n",
    "    for i, bet in enumerate(y_pred):\n",
    "        error += abs(bet - df_comb_test[predict_param].values[i])\n",
    "        if abs(bet - df_comb_test[predict_param].values[i]) < 0.5:\n",
    "            within += 1\n",
    "    avg_error = error / len(y_pred)\n",
    "    within_percent = within / len(y_pred)\n",
    "    print()\n",
    "    print('avgerror: ' + str(np.round(avg_error, 2)))\n",
    "    print('within_percent: ' + str(np.round(within_percent, 2)))\n",
    "\n",
    "evaluate_param('B365')\n"
   ],
   "metadata": {
    "collapsed": false,
    "pycharm": {
     "name": "#%%\n"
    }
   }
  }
 ],
 "metadata": {
  "kernelspec": {
   "name": "python3",
   "language": "python",
   "display_name": "Python 3"
  },
  "language_info": {
   "codemirror_mode": {
    "name": "ipython",
    "version": 2
   },
   "file_extension": ".py",
   "mimetype": "text/x-python",
   "name": "python",
   "nbconvert_exporter": "python",
   "pygments_lexer": "ipython2",
   "version": "2.7.6"
  }
 },
 "nbformat": 4,
 "nbformat_minor": 0
}