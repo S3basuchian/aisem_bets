{
 "cells": [
  {
   "cell_type": "code",
   "execution_count": 913,
   "metadata": {
    "collapsed": true
   },
   "outputs": [],
   "source": [
    "import sqlite3\n",
    "import numpy as np\n",
    "import pandas as pd\n",
    "\n",
    "con = sqlite3.connect(\"database.sqlite\")"
   ]
  },
  {
   "cell_type": "code",
   "execution_count": 914,
   "outputs": [],
   "source": [
    "# country_id=\"21518\" and league_id=\"21518\" define La Liga\n",
    "# id=\"43040\" or team_api_id=\"8633\" define Real Madrid\n",
    "# id=\"43039\" or team_api_id=\"9783\" define RC Deportivo de La Coruña (opponent of Real Madrid in stage 38)\n",
    "df = pd.read_sql_query('SELECT id, home_team_goal, away_team_goal, '\n",
    "                       'home_team_api_id, away_team_api_id, '\n",
    "                       'B365H, B365D, B365A '\n",
    "                       'FROM Match '\n",
    "                       'WHERE country_id!=\"21518\" '\n",
    "                       'ORDER BY season, stage ASC', con)\n",
    "df_test = pd.read_sql_query('SELECT id, home_team_goal, away_team_goal, '\n",
    "                       'home_team_api_id, away_team_api_id, '\n",
    "                       'B365H, B365D, B365A '\n",
    "                       'FROM Match '\n",
    "                       'WHERE country_id=\"21518\" '\n",
    "                       'ORDER BY season, stage ASC', con)\n",
    "df.dropna(inplace=True)\n",
    "df_test.dropna(inplace=True)"
   ],
   "metadata": {
    "collapsed": false,
    "pycharm": {
     "name": "#%%\n"
    }
   }
  },
  {
   "cell_type": "code",
   "execution_count": 915,
   "outputs": [],
   "source": [
    "def prepareDF(dataframe):\n",
    "    teams = dataframe['home_team_api_id'].unique()\n",
    "    points = {}\n",
    "    bets = {}\n",
    "    points_against_teams = {}\n",
    "    bets_against_teams = {}\n",
    "    for team_id in teams:\n",
    "        points[team_id] = {}\n",
    "        bets[team_id] = {}\n",
    "        points_against_teams[team_id] = {}\n",
    "        bets_against_teams[team_id] = {}\n",
    "        for team_id_inner in teams:\n",
    "                if team_id != team_id_inner:\n",
    "                    points_against_teams[team_id][team_id_inner] = {}\n",
    "                    bets_against_teams[team_id][team_id_inner] = {}\n",
    "    for i, value in enumerate(dataframe.values):\n",
    "        home_team_api_id = dataframe['home_team_api_id'].values[i]\n",
    "        away_team_api_id = dataframe['away_team_api_id'].values[i]\n",
    "        home_team_goal = dataframe['home_team_goal'].values[i]\n",
    "        away_team_goal = dataframe['away_team_goal'].values[i]\n",
    "        id_of_match = dataframe['id'].values[i]\n",
    "        bets[home_team_api_id][id_of_match] = dataframe['B365H'].values[i]\n",
    "        bets[away_team_api_id][id_of_match] = dataframe['B365A'].values[i]\n",
    "        bets_against_teams[home_team_api_id][away_team_api_id][id_of_match] = dataframe['B365H'].values[i]\n",
    "        bets_against_teams[away_team_api_id][home_team_api_id][id_of_match] = dataframe['B365A'].values[i]\n",
    "        if home_team_goal > away_team_goal:\n",
    "            points_against_teams[home_team_api_id][away_team_api_id][id_of_match] = 3\n",
    "            points_against_teams[away_team_api_id][home_team_api_id][id_of_match] = 0\n",
    "            points[home_team_api_id][id_of_match] = 3\n",
    "            points[away_team_api_id][id_of_match] = 0\n",
    "        elif home_team_goal < away_team_goal:\n",
    "            points_against_teams[home_team_api_id][away_team_api_id][id_of_match] = 0\n",
    "            points_against_teams[away_team_api_id][home_team_api_id][id_of_match] = 3\n",
    "            points[home_team_api_id][id_of_match] = 0\n",
    "            points[away_team_api_id][id_of_match] = 3\n",
    "        else:\n",
    "            points_against_teams[home_team_api_id][away_team_api_id][id_of_match] = 1\n",
    "            points_against_teams[away_team_api_id][home_team_api_id][id_of_match] = 1\n",
    "            points[home_team_api_id][id_of_match] = 1\n",
    "            points[away_team_api_id][id_of_match] = 1\n",
    "    bet_ratio = []\n",
    "    home_pitlf = []\n",
    "    away_pitlf = []\n",
    "    home_vs_away_pitlf = []\n",
    "    away_vs_home_pitlf = []\n",
    "    home_points_avg = []\n",
    "    away_points_avg = []\n",
    "    home_points_avg_vs_away = []\n",
    "    away_points_avg_vs_home = []\n",
    "    home_bets_avg = []\n",
    "    away_bets_avg = []\n",
    "    home_vs_away_bets_avg = []\n",
    "    away_vs_home_bets_avg = []\n",
    "    for i, value in enumerate(dataframe.values):\n",
    "        home_team_api_id = dataframe['home_team_api_id'].values[i]\n",
    "        away_team_api_id = dataframe['away_team_api_id'].values[i]\n",
    "        id_of_match = dataframe['id'].values[i]\n",
    "        bet_ratio = dataframe['B365H'].values[i] / dataframe['B365A'].values[i]\n",
    "\n",
    "        pitlf, avgpoints = stats_general(id_of_match,points[home_team_api_id])\n",
    "        home_pitlf.append(pitlf)\n",
    "        home_points_avg.append(avgpoints)\n",
    "        pitlf, avgpoints = stats_general(id_of_match,points[away_team_api_id])\n",
    "        away_pitlf.append(pitlf)\n",
    "        away_points_avg.append(avgpoints)\n",
    "        pitlf, avgpoints = stats_general(id_of_match,points_against_teams[home_team_api_id][away_team_api_id])\n",
    "        home_vs_away_pitlf.append(pitlf)\n",
    "        home_points_avg_vs_away.append(avgpoints)\n",
    "        pitlf, avgpoints = stats_general(id_of_match,points_against_teams[away_team_api_id][home_team_api_id])\n",
    "        away_vs_home_pitlf.append(pitlf)\n",
    "        away_points_avg_vs_home.append(avgpoints)\n",
    "\n",
    "        home_bets_avg.append(stats_bets(id_of_match, bets[home_team_api_id]))\n",
    "        away_bets_avg.append(stats_bets(id_of_match, bets[away_team_api_id]))\n",
    "        home_vs_away_bets_avg.append(stats_bets(id_of_match, bets_against_teams[home_team_api_id][away_team_api_id]))\n",
    "        away_vs_home_bets_avg.append(stats_bets(id_of_match, bets_against_teams[away_team_api_id][home_team_api_id]))\n",
    "    dataframe['bet_ratio'] = bet_ratio\n",
    "    dataframe['home_points_avg'] = home_points_avg\n",
    "    dataframe['away_points_avg'] = away_points_avg\n",
    "    dataframe['home_points_avg_vs_away'] = home_points_avg_vs_away\n",
    "    dataframe['away_points_avg_vs_home'] = away_points_avg_vs_home\n",
    "    dataframe['home_pitlf'] = home_pitlf\n",
    "    dataframe['away_pitlf'] = away_pitlf\n",
    "    dataframe['home_vs_away_pitlf'] = home_vs_away_pitlf\n",
    "    dataframe['away_vs_home_pitlf'] = away_vs_home_pitlf\n",
    "    dataframe['home_bets_avg'] = home_bets_avg\n",
    "    dataframe['away_bets_avg'] = away_bets_avg\n",
    "    dataframe['home_vs_away_bets_avg'] = home_vs_away_bets_avg\n",
    "    dataframe['away_vs_home_bets_avg'] = away_vs_home_bets_avg\n",
    "    dataframe.dropna(inplace=True)\n",
    "\n",
    "def stats_general(id_of_match, points):\n",
    "    pitlf = 0\n",
    "    avgpoints = 0\n",
    "    for j, key in enumerate(points.keys()):\n",
    "        if key == id_of_match:\n",
    "            if j-5 >= 0:\n",
    "                for k, point in enumerate(points.values()):\n",
    "                    if k < j:\n",
    "                        avgpoints += point\n",
    "                        if j - 5 < k:\n",
    "                            pitlf += point\n",
    "                avgpoints = (avgpoints / (j +1))\n",
    "                return pitlf, avgpoints\n",
    "            else:\n",
    "                return np.nan, np.nan\n",
    "\n",
    "def stats_bets(id_of_match, bets):\n",
    "    avgbets = 0\n",
    "    for j, key in enumerate(bets.keys()):\n",
    "        if key == id_of_match:\n",
    "            if j-5 >= 0:\n",
    "                for k, bet in enumerate(bets.values()):\n",
    "                    if k < j:\n",
    "                        if j - 5 < k:\n",
    "                            avgbets += bet\n",
    "                avgbets = (avgbets / 5)\n",
    "                return avgbets\n",
    "            else:\n",
    "                return np.nan"
   ],
   "metadata": {
    "collapsed": false,
    "pycharm": {
     "name": "#%%\n"
    }
   }
  },
  {
   "cell_type": "code",
   "execution_count": 916,
   "outputs": [],
   "source": [
    "prepareDF(df)\n",
    "prepareDF(df_test)"
   ],
   "metadata": {
    "collapsed": false,
    "pycharm": {
     "name": "#%%\n"
    }
   }
  },
  {
   "cell_type": "code",
   "execution_count": 917,
   "outputs": [],
   "source": [
    "import pyro\n",
    "import pyro.distributions as dist\n",
    "from pyro.nn import PyroModule, PyroSample\n",
    "import torch\n",
    "import torch.nn as nn\n",
    "from pyro.infer.autoguide import AutoDiagonalNormal\n",
    "from pyro.infer import SVI, Trace_ELBO, Predictive"
   ],
   "metadata": {
    "collapsed": false,
    "pycharm": {
     "name": "#%%\n"
    }
   }
  },
  {
   "cell_type": "code",
   "execution_count": 918,
   "outputs": [],
   "source": [
    "class BayesianRegression(PyroModule):\n",
    "    def __init__(self, input_features=8, h1=20, h2=20):\n",
    "        super().__init__()\n",
    "        self.input_features=input_features\n",
    "        self.fc1 = PyroModule[nn.Linear](input_features, h1)\n",
    "        self.fc1.weight = PyroSample(dist.Normal(0., 1.).expand([h1, input_features]).to_event(2))\n",
    "        self.fc1.bias = PyroSample(dist.Normal(0., 1.).expand([h1]).to_event(1))\n",
    "        self.fc2 = PyroModule[nn.Linear](h1, h2)\n",
    "        self.fc2.weight = PyroSample(dist.Normal(0., 1.).expand([h2, h1]).to_event(2))\n",
    "        self.fc2.bias = PyroSample(dist.Normal(0., 1.).expand([h2]).to_event(1))\n",
    "        self.fc3 = PyroModule[nn.Linear](h2, 1)\n",
    "        self.fc3.weight = PyroSample(dist.Normal(0., 1.).expand([1, h2]).to_event(2))\n",
    "        self.fc3.bias = PyroSample(dist.Normal(0., 1.).expand([1]).to_event(1))\n",
    "        self.relu = nn.ReLU()\n",
    "\n",
    "    def forward(self, x, y=None):\n",
    "        x = x.reshape(-1, self.input_features)\n",
    "        x = self.relu(self.fc1(x))\n",
    "        x = self.relu(self.fc2(x))\n",
    "        mu = self.fc3(x).squeeze()\n",
    "        sigma = pyro.sample(\"sigma\", dist.Uniform(0., 1.))\n",
    "        with pyro.plate(\"data\", x.shape[0]):\n",
    "            obs = pyro.sample(\"obs\", dist.Normal(mu, sigma), obs=y)\n",
    "        return mu\n",
    "\n",
    "class BayesianRegression2(PyroModule):\n",
    "    def __init__(self, in_features, out_features):\n",
    "        super().__init__()\n",
    "        self.in_features=in_features\n",
    "        self.linear = PyroModule[nn.Linear](in_features, out_features)\n",
    "        self.linear.weight = PyroSample(dist.Normal(1., 2.).expand([out_features, in_features]).to_event(2))\n",
    "        self.linear.bias = PyroSample(dist.Normal(0., 1.).expand([out_features]).to_event(1))\n",
    "\n",
    "    def forward(self, x, y=None):\n",
    "        x = x.reshape(-1, self.in_features)\n",
    "        sigma = pyro.sample(\"sigma\", dist.Uniform(0., 1.))\n",
    "        mean = self.linear(x).squeeze(-1)\n",
    "        with pyro.plate(\"data\", x.shape[0]):\n",
    "            obs = pyro.sample(\"obs\", dist.Normal(mean, sigma), obs=y)\n",
    "        return mean"
   ],
   "metadata": {
    "collapsed": false,
    "pycharm": {
     "name": "#%%\n"
    }
   }
  },
  {
   "cell_type": "code",
   "execution_count": 919,
   "outputs": [],
   "source": [
    "used_parameters = ['home_vs_away_bets_avg']\n",
    "\n",
    "x_data_raw = []\n",
    "x_data_test_raw = []\n",
    "for param in used_parameters:\n",
    "    x_data_raw.append(df[param].values)\n",
    "    x_data_test_raw.append(df_test[param].values)"
   ],
   "metadata": {
    "collapsed": false,
    "pycharm": {
     "name": "#%%\n"
    }
   }
  },
  {
   "cell_type": "code",
   "execution_count": 920,
   "outputs": [],
   "source": [
    "x_data = torch.tensor(x_data_raw, dtype=torch.float)\n",
    "x_data_test = torch.tensor(x_data_test_raw, dtype=torch.float)\n",
    "y_data = torch.tensor(df['B365H'].values, dtype=torch.float)\n"
   ],
   "metadata": {
    "collapsed": false,
    "pycharm": {
     "name": "#%%\n"
    }
   }
  },
  {
   "cell_type": "code",
   "execution_count": 921,
   "outputs": [],
   "source": [
    "model = BayesianRegression2(in_features=len(used_parameters), out_features=1)\n",
    "guide = AutoDiagonalNormal(model)\n",
    "adam = pyro.optim.Adam({\"lr\": 1e-3})\n",
    "svi = SVI(model, guide, adam, loss=Trace_ELBO())"
   ],
   "metadata": {
    "collapsed": false,
    "pycharm": {
     "name": "#%%\n"
    }
   }
  },
  {
   "cell_type": "code",
   "execution_count": 922,
   "outputs": [
    {
     "name": "stdout",
     "output_type": "stream",
     "text": [
      "[iteration 0001] loss: 57461.2345\n",
      "[iteration 0501] loss: 13655.6238\n",
      "[iteration 1001] loss: 12660.2968\n",
      "[iteration 1501] loss: 12630.1898\n",
      "[iteration 2001] loss: 12685.1490\n",
      "[iteration 2501] loss: 12226.0016\n",
      "[iteration 3001] loss: 11863.9638\n",
      "[iteration 3501] loss: 11800.0287\n",
      "[iteration 4001] loss: 11535.5892\n",
      "[iteration 4501] loss: 11503.7481\n",
      "[iteration 5001] loss: 11481.8400\n",
      "[iteration 5501] loss: 11456.8936\n",
      "[iteration 6001] loss: 11452.0748\n",
      "[iteration 6501] loss: 11450.6734\n",
      "[iteration 7001] loss: 11516.9750\n",
      "[iteration 7501] loss: 11470.4673\n",
      "[iteration 8001] loss: 11443.0739\n",
      "[iteration 8501] loss: 11447.5261\n",
      "[iteration 9001] loss: 11446.2112\n",
      "[iteration 9501] loss: 11449.3866\n"
     ]
    }
   ],
   "source": [
    "num_iterations = 10000\n",
    "pyro.clear_param_store()\n",
    "for j in range(num_iterations):\n",
    "    # calculate the loss and take a gradient step\n",
    "    loss = svi.step(x_data, y_data)\n",
    "    if j % 500 == 0:\n",
    "        print(\"[iteration %04d] loss: %.4f\" % (j + 1, loss / len(x_data)))\n",
    "    if 0 < loss < 100:\n",
    "        break"
   ],
   "metadata": {
    "collapsed": false,
    "pycharm": {
     "name": "#%%\n"
    }
   }
  },
  {
   "cell_type": "code",
   "execution_count": 923,
   "outputs": [],
   "source": [
    "guide.requires_grad_(False)\n",
    "\n",
    "predictive = Predictive(model, guide=guide, num_samples=1000, return_sites=(\"linear.weight\", \"obs\", \"_RETURN\"))\n",
    "preds = predictive(x_data_test)\n",
    "\n",
    "y_pred = preds['obs'].T.detach().numpy().mean(axis=1)\n",
    "y_std = preds['obs'].T.detach().numpy().std(axis=1)"
   ],
   "metadata": {
    "collapsed": false,
    "pycharm": {
     "name": "#%%\n"
    }
   }
  },
  {
   "cell_type": "code",
   "execution_count": 924,
   "outputs": [
    {
     "name": "stdout",
     "output_type": "stream",
     "text": [
      "home_vs_away_bets_avg: 0.7631\n"
     ]
    }
   ],
   "source": [
    "weight = preds[\"linear.weight\"]\n",
    "weight = weight.reshape(weight.shape[0], len(used_parameters))\n",
    "for i, param in enumerate(used_parameters):\n",
    "    print(param + ': ' + str(np.round(torch.mean(weight[:, i]).item(), 4)))"
   ],
   "metadata": {
    "collapsed": false,
    "pycharm": {
     "name": "#%%\n"
    }
   }
  },
  {
   "cell_type": "code",
   "execution_count": 925,
   "outputs": [
    {
     "name": "stdout",
     "output_type": "stream",
     "text": [
      "0.6631990832297175\n",
      "0.6900539707016191\n"
     ]
    }
   ],
   "source": [
    "error = 0\n",
    "within = 0\n",
    "for i, bet in enumerate(y_pred):\n",
    "    error += abs(bet - df_test['B365H'].values[i])\n",
    "    if abs(bet - df_test['B365H'].values[i]) < 0.5:\n",
    "        within += 1\n",
    "avg_error = error / len(y_pred)\n",
    "within_percent = within / len(y_pred)\n",
    "print(avg_error)\n",
    "print(within_percent)\n"
   ],
   "metadata": {
    "collapsed": false,
    "pycharm": {
     "name": "#%%\n"
    }
   }
  }
 ],
 "metadata": {
  "kernelspec": {
   "name": "python3",
   "language": "python",
   "display_name": "Python 3"
  },
  "language_info": {
   "codemirror_mode": {
    "name": "ipython",
    "version": 2
   },
   "file_extension": ".py",
   "mimetype": "text/x-python",
   "name": "python",
   "nbconvert_exporter": "python",
   "pygments_lexer": "ipython2",
   "version": "2.7.6"
  }
 },
 "nbformat": 4,
 "nbformat_minor": 0
}