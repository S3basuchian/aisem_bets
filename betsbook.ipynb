{
 "cells": [
  {
   "cell_type": "code",
   "execution_count": 325,
   "metadata": {
    "collapsed": true
   },
   "outputs": [],
   "source": [
    "import sqlite3\n",
    "import pandas as pd\n",
    "\n",
    "con = sqlite3.connect(\"database.sqlite\")"
   ]
  },
  {
   "cell_type": "code",
   "execution_count": 326,
   "outputs": [],
   "source": [
    "# country_id=\"21518\" and league_id=\"21518\" define La Liga\n",
    "# id=\"43040\" or team_api_id=\"8633\" define Real Madrid\n",
    "# id=\"43039\" or team_api_id=\"9783\" define RC Deportivo de La Coruña (opponent of Real Madrid in stage 38)\n",
    "df = pd.read_sql_query('SELECT stage, date, home_team_goal, away_team_goal, '\n",
    "                       'home_team_api_id, away_team_api_id, '\n",
    "                       'B365H, B365D, B365A '\n",
    "                       'FROM Match '\n",
    "                       'WHERE country_id=\"21518\" '\n",
    "                       'AND league_id=\"21518\" '\n",
    "                       'ORDER BY season, stage ASC', con)"
   ],
   "metadata": {
    "collapsed": false,
    "pycharm": {
     "name": "#%%\n"
    }
   }
  },
  {
   "cell_type": "code",
   "execution_count": 327,
   "outputs": [],
   "source": [
    "team = 8633"
   ],
   "metadata": {
    "collapsed": false,
    "pycharm": {
     "name": "#%%\n"
    }
   }
  },
  {
   "cell_type": "code",
   "execution_count": 328,
   "outputs": [],
   "source": [
    "teams = df['home_team_api_id'].unique()\n",
    "points_against_teams = {}\n",
    "points_of_team = {}\n",
    "clashes = {}\n",
    "appearances = {}\n",
    "for team_id in teams:\n",
    "    points_against_teams[team_id] = {}\n",
    "    clashes[team_id] = {}\n",
    "    points_of_team[team_id] = []\n",
    "    appearances[team_id] = 0\n",
    "    for team_id_inner in teams:\n",
    "        if team_id != team_id_inner:\n",
    "            points_against_teams[team_id][team_id_inner] = []\n",
    "            clashes[team_id][team_id_inner] = 0\n",
    "for i, value in enumerate(df.values):\n",
    "    home_team_api_id = df['home_team_api_id'].values[i]\n",
    "    away_team_api_id = df['away_team_api_id'].values[i]\n",
    "    home_team_goal = df['home_team_goal'].values[i]\n",
    "    away_team_goal = df['away_team_goal'].values[i]\n",
    "    if home_team_goal > away_team_goal:\n",
    "        points_against_teams[home_team_api_id][away_team_api_id].append(3)\n",
    "        points_against_teams[away_team_api_id][home_team_api_id].append(0)\n",
    "        points_of_team[home_team_api_id].append(3)\n",
    "        points_of_team[away_team_api_id].append(0)\n",
    "    elif home_team_goal < away_team_goal:\n",
    "        points_against_teams[home_team_api_id][away_team_api_id].append(0)\n",
    "        points_against_teams[away_team_api_id][home_team_api_id].append(3)\n",
    "        points_of_team[home_team_api_id].append(0)\n",
    "        points_of_team[away_team_api_id].append(3)\n",
    "    else:\n",
    "        points_against_teams[home_team_api_id][away_team_api_id].append(1)\n",
    "        points_against_teams[away_team_api_id][home_team_api_id].append(1)\n",
    "        points_of_team[home_team_api_id].append(1)\n",
    "        points_of_team[away_team_api_id].append(1)\n"
   ],
   "metadata": {
    "collapsed": false,
    "pycharm": {
     "name": "#%%\n"
    }
   }
  },
  {
   "cell_type": "code",
   "execution_count": 329,
   "outputs": [],
   "source": [
    "bets_of_team = []\n",
    "enemies_of_team = []\n",
    "wins_of_team_against_enemy_in_last_five = []\n",
    "wins_of_team_in_last_five = []\n",
    "points_of_team_in_last_five = []\n",
    "for i, value in enumerate(df.values):\n",
    "    home_team_api_id = df['home_team_api_id'].values[i]\n",
    "    away_team_api_id = df['away_team_api_id'].values[i]\n",
    "    if home_team_api_id == team:\n",
    "        enemies_of_team.append(df['away_team_api_id'].values[i])\n",
    "        bets_of_team.append(df['B365H'].values[i])\n",
    "        wins_against = 0\n",
    "        wins = 0\n",
    "        points = 0\n",
    "        for j in range(clashes[home_team_api_id][away_team_api_id] - 5, clashes[home_team_api_id][away_team_api_id]):\n",
    "            if j >= 0 and points_against_teams[home_team_api_id][away_team_api_id][j] == 3:\n",
    "                wins_against += 1\n",
    "        for j in range(appearances[home_team_api_id] - 5, appearances[home_team_api_id]):\n",
    "            if j >= 0 and points_of_team[home_team_api_id][j] == 3:\n",
    "                wins += 1\n",
    "            points += points_of_team[home_team_api_id][j]\n",
    "        wins_of_team_against_enemy_in_last_five.append(wins_against)\n",
    "        wins_of_team_in_last_five.append(wins)\n",
    "        points_of_team_in_last_five.append(points)\n",
    "        clashes[home_team_api_id][away_team_api_id] += 1\n",
    "        clashes[away_team_api_id][home_team_api_id] += 1\n",
    "        appearances[home_team_api_id] += 1\n",
    "    if away_team_api_id == team:\n",
    "        enemies_of_team.append(df['home_team_api_id'].values[i])\n",
    "        bets_of_team.append(df['B365A'].values[i])\n",
    "        wins_against = 0\n",
    "        wins = 0\n",
    "        points = 0\n",
    "        for j in range(clashes[away_team_api_id][home_team_api_id] - 5, clashes[away_team_api_id][home_team_api_id]):\n",
    "            if j >= 0 and points_against_teams[away_team_api_id][home_team_api_id][j] == 3:\n",
    "                wins_against += 1\n",
    "        for j in range(appearances[away_team_api_id] - 5, appearances[away_team_api_id]):\n",
    "            if j >= 0 and points_of_team[away_team_api_id][j] == 3:\n",
    "                wins += 1\n",
    "            points += points_of_team[away_team_api_id][j]\n",
    "        wins_of_team_against_enemy_in_last_five.append(wins_against)\n",
    "        wins_of_team_in_last_five.append(wins)\n",
    "        points_of_team_in_last_five.append(points)\n",
    "        clashes[home_team_api_id][away_team_api_id] += 1\n",
    "        clashes[away_team_api_id][home_team_api_id] += 1\n",
    "        appearances[away_team_api_id] += 1"
   ],
   "metadata": {
    "collapsed": false,
    "pycharm": {
     "name": "#%%\n"
    }
   }
  },
  {
   "cell_type": "code",
   "execution_count": 330,
   "outputs": [],
   "source": [
    "import pyro\n",
    "import pyro.distributions as dist\n",
    "from pyro.nn import PyroModule, PyroSample\n",
    "import torch\n",
    "import torch.nn as nn\n",
    "from pyro.infer.autoguide import AutoDiagonalNormal\n",
    "from pyro.infer import SVI, Trace_ELBO, Predictive\n",
    "from tqdm.auto import trange, tqdm\n",
    "import matplotlib.pyplot as plt\n",
    "import numpy as np"
   ],
   "metadata": {
    "collapsed": false,
    "pycharm": {
     "name": "#%%\n"
    }
   }
  },
  {
   "cell_type": "code",
   "execution_count": 331,
   "outputs": [],
   "source": [
    "class BayesianRegression(PyroModule):\n",
    "    def __init__(self, input_features=2, h1=20, h2=20):\n",
    "        super().__init__()\n",
    "        self.input_features=input_features\n",
    "        self.fc1 = PyroModule[nn.Linear](input_features, h1)\n",
    "        self.fc1.weight = PyroSample(dist.Normal(0., 1.).expand([h1, input_features]).to_event(2))\n",
    "        self.fc1.bias = PyroSample(dist.Normal(0., 1.).expand([h1]).to_event(1))\n",
    "        self.fc2 = PyroModule[nn.Linear](h1, h2)\n",
    "        self.fc2.weight = PyroSample(dist.Normal(0., 1.).expand([h2, h1]).to_event(2))\n",
    "        self.fc2.bias = PyroSample(dist.Normal(0., 1.).expand([h2]).to_event(1))\n",
    "        self.fc3 = PyroModule[nn.Linear](h2, 1)\n",
    "        self.fc3.weight = PyroSample(dist.Normal(0., 1.).expand([1, h2]).to_event(2))\n",
    "        self.fc3.bias = PyroSample(dist.Normal(0., 1.).expand([1]).to_event(1))\n",
    "        self.relu = nn.ReLU()\n",
    "\n",
    "    def forward(self, x, y=None):\n",
    "        x = x.reshape(-1, self.input_features)\n",
    "        x = self.relu(self.fc1(x))\n",
    "        x = self.relu(self.fc2(x))\n",
    "        mu = self.fc3(x).squeeze()\n",
    "        sigma = pyro.sample(\"sigma\", dist.Uniform(0., 1.))\n",
    "        with pyro.plate(\"data\", x.shape[0]):\n",
    "            obs = pyro.sample(\"obs\", dist.Normal(mu, sigma), obs=y)\n",
    "        return mu"
   ],
   "metadata": {
    "collapsed": false,
    "pycharm": {
     "name": "#%%\n"
    }
   }
  },
  {
   "cell_type": "code",
   "execution_count": 332,
   "outputs": [],
   "source": [
    "model = BayesianRegression()\n",
    "guide = AutoDiagonalNormal(model)\n",
    "adam = pyro.optim.Adam({\"lr\": 1e-3})\n",
    "svi = SVI(model, guide, adam, loss=Trace_ELBO())"
   ],
   "metadata": {
    "collapsed": false,
    "pycharm": {
     "name": "#%%\n"
    }
   }
  },
  {
   "cell_type": "code",
   "execution_count": 333,
   "outputs": [],
   "source": [
    "x_data = torch.tensor([np.array(wins_of_team_in_last_five[50:250]), np.array(wins_of_team_against_enemy_in_last_five[50:250])], dtype=torch.float)\n",
    "x_data_test = torch.tensor([np.array(wins_of_team_in_last_five[250:304]), np.array(wins_of_team_against_enemy_in_last_five[250:304])], dtype=torch.float)\n",
    "y_data = torch.from_numpy(np.array(bets_of_team[50:250])).float()\n"
   ],
   "metadata": {
    "collapsed": false,
    "pycharm": {
     "name": "#%%\n"
    }
   }
  },
  {
   "cell_type": "code",
   "execution_count": 334,
   "outputs": [
    {
     "name": "stdout",
     "output_type": "stream",
     "text": [
      "[iteration 0001] loss: 888.9071\n",
      "[iteration 0101] loss: 555.0861\n",
      "[iteration 0201] loss: 619.3645\n",
      "[iteration 0301] loss: 615.0531\n",
      "[iteration 0401] loss: 521.4004\n",
      "[iteration 0501] loss: 507.6635\n",
      "[iteration 0601] loss: 475.7505\n",
      "[iteration 0701] loss: 464.4979\n",
      "[iteration 0801] loss: 483.6058\n",
      "[iteration 0901] loss: 641.2886\n",
      "[iteration 1001] loss: 439.4358\n",
      "[iteration 1101] loss: 421.2929\n",
      "[iteration 1201] loss: 441.3437\n",
      "[iteration 1301] loss: 390.4239\n",
      "[iteration 1401] loss: 382.7052\n",
      "[iteration 1501] loss: 377.7707\n",
      "[iteration 1601] loss: 363.7083\n",
      "[iteration 1701] loss: 340.2423\n",
      "[iteration 1801] loss: 362.3267\n",
      "[iteration 1901] loss: 398.6936\n"
     ]
    }
   ],
   "source": [
    "num_iterations = 2000\n",
    "pyro.clear_param_store()\n",
    "for j in range(num_iterations):\n",
    "    # calculate the loss and take a gradient step\n",
    "    loss = svi.step(x_data, y_data)\n",
    "    if j % 100 == 0:\n",
    "        print(\"[iteration %04d] loss: %.4f\" % (j + 1, loss / len(x_data)))"
   ],
   "metadata": {
    "collapsed": false,
    "pycharm": {
     "name": "#%%\n"
    }
   }
  },
  {
   "cell_type": "code",
   "execution_count": 335,
   "outputs": [],
   "source": [
    "predictive = Predictive(model, guide=guide, num_samples=500)\n",
    "preds = predictive(x_data_test)\n",
    "\n",
    "y_pred = preds['obs'].T.detach().numpy().mean(axis=1)\n",
    "y_std = preds['obs'].T.detach().numpy().std(axis=1)"
   ],
   "metadata": {
    "collapsed": false,
    "pycharm": {
     "name": "#%%\n"
    }
   }
  },
  {
   "cell_type": "code",
   "execution_count": 336,
   "outputs": [
    {
     "name": "stdout",
     "output_type": "stream",
     "text": [
      "0.39713122160346426\n"
     ]
    }
   ],
   "source": [
    "error = 0\n",
    "for i, bet in enumerate(y_pred):\n",
    "    error += abs(bet - bets_of_team[250 + i])\n",
    "avg_error = error / 54\n",
    "print(avg_error)\n"
   ],
   "metadata": {
    "collapsed": false,
    "pycharm": {
     "name": "#%%\n"
    }
   }
  }
 ],
 "metadata": {
  "kernelspec": {
   "name": "pycharm-111766ac",
   "language": "python",
   "display_name": "PyCharm (aisem_bets)"
  },
  "language_info": {
   "codemirror_mode": {
    "name": "ipython",
    "version": 2
   },
   "file_extension": ".py",
   "mimetype": "text/x-python",
   "name": "python",
   "nbconvert_exporter": "python",
   "pygments_lexer": "ipython2",
   "version": "2.7.6"
  }
 },
 "nbformat": 4,
 "nbformat_minor": 0
}