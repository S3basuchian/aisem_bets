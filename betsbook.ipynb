{
 "cells": [
  {
   "cell_type": "code",
   "execution_count": 283,
   "metadata": {
    "collapsed": true
   },
   "outputs": [],
   "source": [
    "import sqlite3\n",
    "import numpy as np\n",
    "import pandas as pd\n",
    "\n",
    "con = sqlite3.connect(\"database.sqlite\")"
   ]
  },
  {
   "cell_type": "code",
   "execution_count": 284,
   "outputs": [],
   "source": [
    "# country_id=\"21518\" and league_id=\"21518\" define La Liga\n",
    "# id=\"43040\" or team_api_id=\"8633\" define Real Madrid\n",
    "# id=\"43039\" or team_api_id=\"9783\" define RC Deportivo de La Coruña (opponent of Real Madrid in stage 38)\n",
    "df = pd.read_sql_query('SELECT id, home_team_goal, away_team_goal, '\n",
    "                       'home_team_api_id, away_team_api_id, '\n",
    "                       'B365H, B365D, B365A '\n",
    "                       'FROM Match '\n",
    "                       'WHERE country_id!=\"21518\" '\n",
    "                       'ORDER BY season, stage ASC', con)\n",
    "df_test = pd.read_sql_query('SELECT id, home_team_goal, away_team_goal, '\n",
    "                       'home_team_api_id, away_team_api_id, '\n",
    "                       'B365H, B365D, B365A '\n",
    "                       'FROM Match '\n",
    "                       'WHERE country_id=\"21518\" '\n",
    "                       'ORDER BY season, stage ASC', con)\n",
    "df.dropna(inplace=True)\n",
    "df_test.dropna(inplace=True)"
   ],
   "metadata": {
    "collapsed": false,
    "pycharm": {
     "name": "#%%\n"
    }
   }
  },
  {
   "cell_type": "code",
   "execution_count": 285,
   "outputs": [],
   "source": [
    "def prepareDF(dataframe):\n",
    "    teams = dataframe['home_team_api_id'].unique()\n",
    "    points = {}\n",
    "    points_against_teams = {}\n",
    "    for team_id in teams:\n",
    "        points[team_id] = {}\n",
    "        points_against_teams[team_id] = {}\n",
    "        for team_id_inner in teams:\n",
    "                if team_id != team_id_inner:\n",
    "                    points_against_teams[team_id][team_id_inner] = {}\n",
    "    for i, value in enumerate(dataframe.values):\n",
    "        home_team_api_id = dataframe['home_team_api_id'].values[i]\n",
    "        away_team_api_id = dataframe['away_team_api_id'].values[i]\n",
    "        home_team_goal = dataframe['home_team_goal'].values[i]\n",
    "        away_team_goal = dataframe['away_team_goal'].values[i]\n",
    "        id_of_match = dataframe['id'].values[i]\n",
    "        if home_team_goal > away_team_goal:\n",
    "            points_against_teams[home_team_api_id][away_team_api_id][id_of_match] = 3\n",
    "            points_against_teams[away_team_api_id][home_team_api_id][id_of_match] = 0\n",
    "            points[home_team_api_id][id_of_match] = 3\n",
    "            points[away_team_api_id][id_of_match] = 0\n",
    "        elif home_team_goal < away_team_goal:\n",
    "            points_against_teams[home_team_api_id][away_team_api_id][id_of_match] = 0\n",
    "            points_against_teams[away_team_api_id][home_team_api_id][id_of_match] = 3\n",
    "            points[home_team_api_id][id_of_match] = 0\n",
    "            points[away_team_api_id][id_of_match] = 3\n",
    "        else:\n",
    "            points_against_teams[home_team_api_id][away_team_api_id][id_of_match] = 1\n",
    "            points_against_teams[away_team_api_id][home_team_api_id][id_of_match] = 1\n",
    "            points[home_team_api_id][id_of_match] = 1\n",
    "            points[away_team_api_id][id_of_match] = 1\n",
    "    bet_ratio = []\n",
    "    home_pitlf = []\n",
    "    away_pitlf = []\n",
    "    home_vs_away_pitlf = []\n",
    "    away_vs_home_pitlf = []\n",
    "    for i, value in enumerate(dataframe.values):\n",
    "        home_team_api_id = dataframe['home_team_api_id'].values[i]\n",
    "        away_team_api_id = dataframe['away_team_api_id'].values[i]\n",
    "        id_of_match = dataframe['id'].values[i]\n",
    "        bet_ratio = dataframe['B365H'].values[i] / dataframe['B365A'].values[i]\n",
    "        pitlf = 0\n",
    "        for j, key in enumerate(points[home_team_api_id].keys()):\n",
    "            if key == id_of_match:\n",
    "                if j-5 >= 0:\n",
    "                    for k, point in enumerate(points[home_team_api_id].values()):\n",
    "                        if j - 5 <= k < j:\n",
    "                            pitlf += point\n",
    "                    home_pitlf.append(pitlf)\n",
    "                else:\n",
    "                    home_pitlf.append(np.nan)\n",
    "        pitlf = 0\n",
    "        for j, key in enumerate(points[away_team_api_id].keys()):\n",
    "            if key == id_of_match:\n",
    "                if j-5 >= 0:\n",
    "                    for k, point in enumerate(points[away_team_api_id].values()):\n",
    "                        if j - 5 <= k < j:\n",
    "                            pitlf += point\n",
    "                    away_pitlf.append(pitlf)\n",
    "                else:\n",
    "                    away_pitlf.append(np.nan)\n",
    "        pitlf = 0\n",
    "        for j, key in enumerate(points_against_teams[home_team_api_id][away_team_api_id].keys()):\n",
    "            if key == id_of_match:\n",
    "                if j-5 >= 0:\n",
    "                    for k, point in enumerate(points_against_teams[home_team_api_id][away_team_api_id].values()):\n",
    "                        if j - 5 <= k < j:\n",
    "                            pitlf += point\n",
    "                    home_vs_away_pitlf.append(pitlf)\n",
    "                else:\n",
    "                    home_vs_away_pitlf.append(np.nan)\n",
    "        pitlf = 0\n",
    "        for j, key in enumerate(points_against_teams[away_team_api_id][home_team_api_id].keys()):\n",
    "            if key == id_of_match:\n",
    "                if j-5 >= 0:\n",
    "                    for k, point in enumerate(points_against_teams[away_team_api_id][home_team_api_id].values()):\n",
    "                        if j - 5 <= k < j:\n",
    "                            pitlf += point\n",
    "                    away_vs_home_pitlf.append(pitlf)\n",
    "                else:\n",
    "                    away_vs_home_pitlf.append(np.nan)\n",
    "    dataframe['bet_ratio'] = bet_ratio\n",
    "    dataframe['home_pitlf'] = home_pitlf\n",
    "    dataframe['away_pitlf'] = away_pitlf\n",
    "    dataframe['home_vs_away_pitlf'] = home_vs_away_pitlf\n",
    "    dataframe['away_vs_home_pitlf'] = away_vs_home_pitlf\n",
    "    dataframe.dropna(inplace=True)"
   ],
   "metadata": {
    "collapsed": false,
    "pycharm": {
     "name": "#%%\n"
    }
   }
  },
  {
   "cell_type": "code",
   "execution_count": 286,
   "outputs": [],
   "source": [
    "prepareDF(df)\n",
    "prepareDF(df_test)"
   ],
   "metadata": {
    "collapsed": false,
    "pycharm": {
     "name": "#%%\n"
    }
   }
  },
  {
   "cell_type": "code",
   "execution_count": 287,
   "outputs": [],
   "source": [
    "import pyro\n",
    "import pyro.distributions as dist\n",
    "from pyro.nn import PyroModule, PyroSample\n",
    "import torch\n",
    "import torch.nn as nn\n",
    "from pyro.infer.autoguide import AutoDiagonalNormal\n",
    "from pyro.infer import SVI, Trace_ELBO, Predictive"
   ],
   "metadata": {
    "collapsed": false,
    "pycharm": {
     "name": "#%%\n"
    }
   }
  },
  {
   "cell_type": "code",
   "execution_count": 288,
   "outputs": [],
   "source": [
    "class BayesianRegression(PyroModule):\n",
    "    def __init__(self, input_features=4, h1=20, h2=20):\n",
    "        super().__init__()\n",
    "        self.input_features=input_features\n",
    "        self.fc1 = PyroModule[nn.Linear](input_features, h1)\n",
    "        self.fc1.weight = PyroSample(dist.Normal(0., 1.).expand([h1, input_features]).to_event(2))\n",
    "        self.fc1.bias = PyroSample(dist.Normal(0., 1.).expand([h1]).to_event(1))\n",
    "        self.fc2 = PyroModule[nn.Linear](h1, h2)\n",
    "        self.fc2.weight = PyroSample(dist.Normal(0., 1.).expand([h2, h1]).to_event(2))\n",
    "        self.fc2.bias = PyroSample(dist.Normal(0., 1.).expand([h2]).to_event(1))\n",
    "        self.fc3 = PyroModule[nn.Linear](h2, 1)\n",
    "        self.fc3.weight = PyroSample(dist.Normal(0., 1.).expand([1, h2]).to_event(2))\n",
    "        self.fc3.bias = PyroSample(dist.Normal(0., 1.).expand([1]).to_event(1))\n",
    "        self.relu = nn.ReLU()\n",
    "\n",
    "    def forward(self, x, y=None):\n",
    "        x = x.reshape(-1, self.input_features)\n",
    "        x = self.relu(self.fc1(x))\n",
    "        x = self.relu(self.fc2(x))\n",
    "        mu = self.fc3(x).squeeze()\n",
    "        sigma = pyro.sample(\"sigma\", dist.Uniform(0., 1.))\n",
    "        with pyro.plate(\"data\", x.shape[0]):\n",
    "            obs = pyro.sample(\"obs\", dist.Normal(mu, sigma), obs=y)\n",
    "        return mu"
   ],
   "metadata": {
    "collapsed": false,
    "pycharm": {
     "name": "#%%\n"
    }
   }
  },
  {
   "cell_type": "code",
   "execution_count": 289,
   "outputs": [],
   "source": [
    "model = BayesianRegression()\n",
    "guide = AutoDiagonalNormal(model)\n",
    "adam = pyro.optim.Adam({\"lr\": 1e-3})\n",
    "svi = SVI(model, guide, adam, loss=Trace_ELBO())"
   ],
   "metadata": {
    "collapsed": false,
    "pycharm": {
     "name": "#%%\n"
    }
   }
  },
  {
   "cell_type": "code",
   "execution_count": 290,
   "outputs": [],
   "source": [
    "x_data = torch.tensor([df['home_pitlf'].values, df['away_pitlf'].values, df['home_vs_away_pitlf'].values, df['away_vs_home_pitlf'].values], dtype=torch.float)\n",
    "x_data_test = torch.tensor([df_test['home_pitlf'].values, df_test['away_pitlf'].values, df_test['home_vs_away_pitlf'].values, df_test['away_vs_home_pitlf'].values], dtype=torch.float)\n",
    "y_data = torch.tensor(df['bet_ratio'].values, dtype=torch.float)\n"
   ],
   "metadata": {
    "collapsed": false,
    "pycharm": {
     "name": "#%%\n"
    }
   }
  },
  {
   "cell_type": "code",
   "execution_count": 291,
   "outputs": [
    {
     "name": "stdout",
     "output_type": "stream",
     "text": [
      "[iteration 0001] loss: 141726.2841\n",
      "[iteration 0101] loss: 19337.1310\n",
      "[iteration 0201] loss: 11034.8644\n",
      "[iteration 0301] loss: 6518.6449\n",
      "[iteration 0401] loss: 5814.6074\n",
      "[iteration 0501] loss: 2663.4163\n",
      "[iteration 0601] loss: 8237.4140\n",
      "[iteration 0701] loss: 2752.7416\n",
      "[iteration 0801] loss: 1705.2802\n",
      "[iteration 0901] loss: 851.0010\n",
      "[iteration 1001] loss: 1522.2543\n",
      "[iteration 1101] loss: 8223.1542\n",
      "[iteration 1201] loss: 999.7855\n",
      "[iteration 1301] loss: 1240.1978\n",
      "[iteration 1401] loss: 563.5156\n",
      "[iteration 1501] loss: 887.9284\n",
      "[iteration 1601] loss: 769.7806\n",
      "[iteration 1701] loss: 824.3283\n",
      "[iteration 1801] loss: 786.0371\n",
      "[iteration 1901] loss: 1015.9442\n"
     ]
    }
   ],
   "source": [
    "num_iterations = 2000\n",
    "pyro.clear_param_store()\n",
    "for j in range(num_iterations):\n",
    "    # calculate the loss and take a gradient step\n",
    "    loss = svi.step(x_data, y_data)\n",
    "    if j % 100 == 0:\n",
    "        print(\"[iteration %04d] loss: %.4f\" % (j + 1, loss / len(x_data)))"
   ],
   "metadata": {
    "collapsed": false,
    "pycharm": {
     "name": "#%%\n"
    }
   }
  },
  {
   "cell_type": "code",
   "execution_count": 292,
   "outputs": [],
   "source": [
    "predictive = Predictive(model, guide=guide, num_samples=500)\n",
    "preds = predictive(x_data_test)\n",
    "\n",
    "y_pred = preds['obs'].T.detach().numpy().mean(axis=1)\n",
    "y_std = preds['obs'].T.detach().numpy().std(axis=1)"
   ],
   "metadata": {
    "collapsed": false,
    "pycharm": {
     "name": "#%%\n"
    }
   }
  },
  {
   "cell_type": "code",
   "execution_count": 293,
   "outputs": [
    {
     "name": "stdout",
     "output_type": "stream",
     "text": [
      "0.242338105587302\n",
      "0.9992289899768697\n"
     ]
    }
   ],
   "source": [
    "error = 0\n",
    "within = 0\n",
    "for i, bet in enumerate(y_pred):\n",
    "    error += abs(bet - df_test['bet_ratio'].values[i])\n",
    "    if abs(bet - df_test['bet_ratio'].values[i]) < 0.5:\n",
    "        within += 1\n",
    "avg_error = error / len(y_pred)\n",
    "within_percent = within / len(y_pred)\n",
    "print(avg_error)\n",
    "print(within_percent)\n"
   ],
   "metadata": {
    "collapsed": false,
    "pycharm": {
     "name": "#%%\n"
    }
   }
  }
 ],
 "metadata": {
  "kernelspec": {
   "name": "python3",
   "language": "python",
   "display_name": "Python 3"
  },
  "language_info": {
   "codemirror_mode": {
    "name": "ipython",
    "version": 2
   },
   "file_extension": ".py",
   "mimetype": "text/x-python",
   "name": "python",
   "nbconvert_exporter": "python",
   "pygments_lexer": "ipython2",
   "version": "2.7.6"
  }
 },
 "nbformat": 4,
 "nbformat_minor": 0
}